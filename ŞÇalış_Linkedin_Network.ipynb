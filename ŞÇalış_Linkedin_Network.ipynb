{
  "nbformat": 4,
  "nbformat_minor": 0,
  "metadata": {
    "colab": {
      "name": "ŞÇalış Linkedin Network.ipynb",
      "provenance": [],
      "collapsed_sections": [],
      "include_colab_link": true
    },
    "kernelspec": {
      "name": "python3",
      "display_name": "Python 3"
    },
    "language_info": {
      "name": "python"
    }
  },
  "cells": [
    {
      "cell_type": "markdown",
      "metadata": {
        "id": "view-in-github",
        "colab_type": "text"
      },
      "source": [
        "<a href=\"https://colab.research.google.com/github/suacalis/IKA-YL/blob/main/%C5%9E%C3%87al%C4%B1%C5%9F_Linkedin_Network.ipynb\" target=\"_parent\"><img src=\"https://colab.research.google.com/assets/colab-badge.svg\" alt=\"Open In Colab\"/></a>"
      ]
    },
    {
      "cell_type": "code",
      "metadata": {
        "id": "gN3Fjp6KObV5"
      },
      "source": [
        "!pip install pyjanitor pyvis --quiet"
      ],
      "execution_count": 25,
      "outputs": []
    },
    {
      "cell_type": "code",
      "metadata": {
        "id": "lH5IecBqDOph"
      },
      "source": [
        "import pandas as pd\n",
        "import janitor\n",
        "import datetime\n",
        "import numpy as np\n",
        "\n",
        "from IPython.core.display import display, HTML\n",
        "from pyvis import network as net\n",
        "import networkx as nx"
      ],
      "execution_count": 66,
      "outputs": []
    },
    {
      "cell_type": "code",
      "metadata": {
        "id": "33lkTwstLzko"
      },
      "source": [
        "df = pd.read_csv(\"/content/Connections.csv\", skiprows=2)"
      ],
      "execution_count": 67,
      "outputs": []
    },
    {
      "cell_type": "code",
      "metadata": {
        "colab": {
          "base_uri": "https://localhost:8080/"
        },
        "id": "SpND_DCtMoA1",
        "outputId": "747b6a95-ec39-4b11-a692-5b2b07101008"
      },
      "source": [
        "df.info()"
      ],
      "execution_count": 68,
      "outputs": [
        {
          "output_type": "stream",
          "name": "stdout",
          "text": [
            "<class 'pandas.core.frame.DataFrame'>\n",
            "RangeIndex: 472 entries, 0 to 471\n",
            "Data columns (total 6 columns):\n",
            " #   Column         Non-Null Count  Dtype \n",
            "---  ------         --------------  ----- \n",
            " 0   First Name     469 non-null    object\n",
            " 1   Last Name      469 non-null    object\n",
            " 2   Email Address  7 non-null      object\n",
            " 3   Company        456 non-null    object\n",
            " 4   Position       456 non-null    object\n",
            " 5   Connected On   472 non-null    object\n",
            "dtypes: object(6)\n",
            "memory usage: 22.2+ KB\n"
          ]
        }
      ]
    },
    {
      "cell_type": "markdown",
      "metadata": {
        "id": "voEgd2d3Trfv"
      },
      "source": [
        "## Data Cleaning"
      ]
    },
    {
      "cell_type": "code",
      "metadata": {
        "colab": {
          "base_uri": "https://localhost:8080/",
          "height": 206
        },
        "id": "MVkni_nRMv-R",
        "outputId": "1791b5cd-6661-44e0-c398-773c5c1c05cc"
      },
      "source": [
        "df = (\n",
        "    df\n",
        "    .clean_names() # remove spacing and capitalization\n",
        "    .drop(columns=['first_name', 'last_name', 'email_address']) # drop for privacy\n",
        "    .dropna(subset=['company', 'position']) # drop missing values in company and position\n",
        "    .to_datetime('connected_on', format='%d %b %Y')\n",
        "  )\n",
        "df.head()"
      ],
      "execution_count": 48,
      "outputs": [
        {
          "output_type": "execute_result",
          "data": {
            "text/html": [
              "<div>\n",
              "<style scoped>\n",
              "    .dataframe tbody tr th:only-of-type {\n",
              "        vertical-align: middle;\n",
              "    }\n",
              "\n",
              "    .dataframe tbody tr th {\n",
              "        vertical-align: top;\n",
              "    }\n",
              "\n",
              "    .dataframe thead th {\n",
              "        text-align: right;\n",
              "    }\n",
              "</style>\n",
              "<table border=\"1\" class=\"dataframe\">\n",
              "  <thead>\n",
              "    <tr style=\"text-align: right;\">\n",
              "      <th></th>\n",
              "      <th>company</th>\n",
              "      <th>position</th>\n",
              "      <th>connected_on</th>\n",
              "    </tr>\n",
              "  </thead>\n",
              "  <tbody>\n",
              "    <tr>\n",
              "      <th>0</th>\n",
              "      <td>AIHR Academy</td>\n",
              "      <td>Founder | Leader in HR Upskilling, HR Innovati...</td>\n",
              "      <td>2021-08-23</td>\n",
              "    </tr>\n",
              "    <tr>\n",
              "      <th>1</th>\n",
              "      <td>World University.london</td>\n",
              "      <td>Owner and Creator of World University</td>\n",
              "      <td>2021-08-16</td>\n",
              "    </tr>\n",
              "    <tr>\n",
              "      <th>2</th>\n",
              "      <td>Selvi Mobilya</td>\n",
              "      <td>İnsan Kaynakları Müdürü</td>\n",
              "      <td>2021-08-02</td>\n",
              "    </tr>\n",
              "    <tr>\n",
              "      <th>3</th>\n",
              "      <td>Medar Hastanesi Sakarya</td>\n",
              "      <td>İnsan Kaynakları Sorumlusu</td>\n",
              "      <td>2021-08-02</td>\n",
              "    </tr>\n",
              "    <tr>\n",
              "      <th>4</th>\n",
              "      <td>TIRSAN Treyler A.S.</td>\n",
              "      <td>İnsan Kaynakları ve Özlük İşleri</td>\n",
              "      <td>2021-07-12</td>\n",
              "    </tr>\n",
              "  </tbody>\n",
              "</table>\n",
              "</div>"
            ],
            "text/plain": [
              "                   company  ... connected_on\n",
              "0             AIHR Academy  ...   2021-08-23\n",
              "1  World University.london  ...   2021-08-16\n",
              "2            Selvi Mobilya  ...   2021-08-02\n",
              "3  Medar Hastanesi Sakarya  ...   2021-08-02\n",
              "4      TIRSAN Treyler A.S.  ...   2021-07-12\n",
              "\n",
              "[5 rows x 3 columns]"
            ]
          },
          "metadata": {},
          "execution_count": 48
        }
      ]
    },
    {
      "cell_type": "markdown",
      "metadata": {
        "id": "CMQaXatyTtPt"
      },
      "source": [
        "## Simple EDA"
      ]
    },
    {
      "cell_type": "code",
      "metadata": {
        "colab": {
          "base_uri": "https://localhost:8080/",
          "height": 265
        },
        "id": "PlU3kryoOz45",
        "outputId": "dbf7dcc5-b212-4bbc-922c-31456acac23b"
      },
      "source": [
        "df['company'].value_counts().head(20).plot(kind=\"barh\").invert_yaxis();"
      ],
      "execution_count": 49,
      "outputs": [
        {
          "output_type": "display_data",
          "data": {
            "image/png": "[encoded data removed]",
            "text/plain": [
              "<Figure size 432x288 with 1 Axes>"
            ]
          },
          "metadata": {
            "needs_background": "light"
          }
        }
      ]
    },
    {
      "cell_type": "code",
      "metadata": {
        "colab": {
          "base_uri": "https://localhost:8080/",
          "height": 265
        },
        "id": "Fx28C8GRTw9b",
        "outputId": "e3f1865e-43e8-4dfb-cdf6-e25610f3b47c"
      },
      "source": [
        "df['position'].value_counts().head(15).plot(kind=\"barh\").invert_yaxis();"
      ],
      "execution_count": 50,
      "outputs": [
        {
          "output_type": "display_data",
          "data": {
            "image/png": "[encoded data removed]",
            "text/plain": [
              "<Figure size 432x288 with 1 Axes>"
            ]
          },
          "metadata": {
            "needs_background": "light"
          }
        }
      ]
    },
    {
      "cell_type": "code",
      "metadata": {
        "colab": {
          "base_uri": "https://localhost:8080/",
          "height": 281
        },
        "id": "VI8kbxToH93o",
        "outputId": "8842129f-bdee-42ae-c58c-fc9793cbf4a5"
      },
      "source": [
        "df['connected_on'].hist(xrot=35, bins=15);"
      ],
      "execution_count": 56,
      "outputs": [
        {
          "output_type": "display_data",
          "data": {
            "image/png": "[encoded data removed]",
            "text/plain": [
              "<Figure size 432x288 with 1 Axes>"
            ]
          },
          "metadata": {
            "needs_background": "light"
          }
        }
      ]
    },
    {
      "cell_type": "markdown",
      "metadata": {
        "id": "pn1BvxBLNg_7"
      },
      "source": [
        "### Remove freelance and self-employed titles"
      ]
    },
    {
      "cell_type": "code",
      "metadata": {
        "id": "PsbXoM2FNjvY"
      },
      "source": [
        "pattern = \"freelance|self-employed\"\n",
        "df = df[~df['company'].str.contains(pattern, case=False)]"
      ],
      "execution_count": 52,
      "outputs": []
    },
    {
      "cell_type": "markdown",
      "metadata": {
        "id": "_WucGhMNmEHt"
      },
      "source": [
        "## Aggregate sum of connections for companies"
      ]
    },
    {
      "cell_type": "code",
      "metadata": {
        "colab": {
          "base_uri": "https://localhost:8080/",
          "height": 520
        },
        "id": "-6fXxpGW8xO8",
        "outputId": "ba0e3ed6-7e2e-4837-fa2d-d1a6335578e0"
      },
      "source": [
        "df_company = df['company'].value_counts().reset_index()\n",
        "df_company.columns = ['company', 'count']\n",
        "df_company = df_company.sort_values(by=\"count\", ascending=False)\n",
        "df_company.head(15)"
      ],
      "execution_count": 57,
      "outputs": [
        {
          "output_type": "execute_result",
          "data": {
            "text/html": [
              "<div>\n",
              "<style scoped>\n",
              "    .dataframe tbody tr th:only-of-type {\n",
              "        vertical-align: middle;\n",
              "    }\n",
              "\n",
              "    .dataframe tbody tr th {\n",
              "        vertical-align: top;\n",
              "    }\n",
              "\n",
              "    .dataframe thead th {\n",
              "        text-align: right;\n",
              "    }\n",
              "</style>\n",
              "<table border=\"1\" class=\"dataframe\">\n",
              "  <thead>\n",
              "    <tr style=\"text-align: right;\">\n",
              "      <th></th>\n",
              "      <th>company</th>\n",
              "      <th>count</th>\n",
              "    </tr>\n",
              "  </thead>\n",
              "  <tbody>\n",
              "    <tr>\n",
              "      <th>0</th>\n",
              "      <td>Sakarya University</td>\n",
              "      <td>26</td>\n",
              "    </tr>\n",
              "    <tr>\n",
              "      <th>1</th>\n",
              "      <td>Sakarya Üniversitesi</td>\n",
              "      <td>10</td>\n",
              "    </tr>\n",
              "    <tr>\n",
              "      <th>2</th>\n",
              "      <td>FEDERAL ELECTRIC</td>\n",
              "      <td>3</td>\n",
              "    </tr>\n",
              "    <tr>\n",
              "      <th>3</th>\n",
              "      <td>ASAŞ ALÜMİNYUM SANAYİ VE TİCARET A.Ş.</td>\n",
              "      <td>3</td>\n",
              "    </tr>\n",
              "    <tr>\n",
              "      <th>4</th>\n",
              "      <td>Neutec Grup</td>\n",
              "      <td>3</td>\n",
              "    </tr>\n",
              "    <tr>\n",
              "      <th>5</th>\n",
              "      <td>LC Waikiki</td>\n",
              "      <td>3</td>\n",
              "    </tr>\n",
              "    <tr>\n",
              "      <th>6</th>\n",
              "      <td>Ford Otosan</td>\n",
              "      <td>3</td>\n",
              "    </tr>\n",
              "    <tr>\n",
              "      <th>7</th>\n",
              "      <td>Toyota Motor Manufacturing Turkey</td>\n",
              "      <td>3</td>\n",
              "    </tr>\n",
              "    <tr>\n",
              "      <th>24</th>\n",
              "      <td>Kocaeli Üniversitesi</td>\n",
              "      <td>2</td>\n",
              "    </tr>\n",
              "    <tr>\n",
              "      <th>21</th>\n",
              "      <td>Sigortam.net</td>\n",
              "      <td>2</td>\n",
              "    </tr>\n",
              "    <tr>\n",
              "      <th>22</th>\n",
              "      <td>Yalova University</td>\n",
              "      <td>2</td>\n",
              "    </tr>\n",
              "    <tr>\n",
              "      <th>23</th>\n",
              "      <td>Turk Telekom</td>\n",
              "      <td>2</td>\n",
              "    </tr>\n",
              "    <tr>\n",
              "      <th>29</th>\n",
              "      <td>Kocaeli University</td>\n",
              "      <td>2</td>\n",
              "    </tr>\n",
              "    <tr>\n",
              "      <th>26</th>\n",
              "      <td>Samsun Büyükşehir Belediyesi</td>\n",
              "      <td>2</td>\n",
              "    </tr>\n",
              "    <tr>\n",
              "      <th>27</th>\n",
              "      <td>Turkish Airlines</td>\n",
              "      <td>2</td>\n",
              "    </tr>\n",
              "  </tbody>\n",
              "</table>\n",
              "</div>"
            ],
            "text/plain": [
              "                                  company  count\n",
              "0                      Sakarya University     26\n",
              "1                    Sakarya Üniversitesi     10\n",
              "2                        FEDERAL ELECTRIC      3\n",
              "3   ASAŞ ALÜMİNYUM SANAYİ VE TİCARET A.Ş.      3\n",
              "4                             Neutec Grup      3\n",
              "5                              LC Waikiki      3\n",
              "6                             Ford Otosan      3\n",
              "7       Toyota Motor Manufacturing Turkey      3\n",
              "24                   Kocaeli Üniversitesi      2\n",
              "21                           Sigortam.net      2\n",
              "22                      Yalova University      2\n",
              "23                           Turk Telekom      2\n",
              "29                     Kocaeli University      2\n",
              "26           Samsun Büyükşehir Belediyesi      2\n",
              "27                       Turkish Airlines      2"
            ]
          },
          "metadata": {},
          "execution_count": 57
        }
      ]
    },
    {
      "cell_type": "markdown",
      "metadata": {
        "id": "vqGvIq2smGwM"
      },
      "source": [
        "## Aggregate sum of connections for positions"
      ]
    },
    {
      "cell_type": "code",
      "metadata": {
        "colab": {
          "base_uri": "https://localhost:8080/",
          "height": 363
        },
        "id": "50py-HYK9rZF",
        "outputId": "d9bf6122-d733-4fd6-c437-4d69e9b970ef"
      },
      "source": [
        "df_position = df['position'].value_counts().reset_index()\n",
        "df_position.columns = ['position', 'count']\n",
        "df_position = df_position.sort_values(by=\"count\", ascending=False)\n",
        "df_position.head(15)"
      ],
      "execution_count": 55,
      "outputs": [
        {
          "output_type": "execute_result",
          "data": {
            "text/html": [
              "<div>\n",
              "<style scoped>\n",
              "    .dataframe tbody tr th:only-of-type {\n",
              "        vertical-align: middle;\n",
              "    }\n",
              "\n",
              "    .dataframe tbody tr th {\n",
              "        vertical-align: top;\n",
              "    }\n",
              "\n",
              "    .dataframe thead th {\n",
              "        text-align: right;\n",
              "    }\n",
              "</style>\n",
              "<table border=\"1\" class=\"dataframe\">\n",
              "  <thead>\n",
              "    <tr style=\"text-align: right;\">\n",
              "      <th></th>\n",
              "      <th>position</th>\n",
              "      <th>count</th>\n",
              "    </tr>\n",
              "  </thead>\n",
              "  <tbody>\n",
              "    <tr>\n",
              "      <th>0</th>\n",
              "      <td>Human Resources Specialist</td>\n",
              "      <td>29</td>\n",
              "    </tr>\n",
              "    <tr>\n",
              "      <th>1</th>\n",
              "      <td>İnsan Kaynakları Uzmanı</td>\n",
              "      <td>26</td>\n",
              "    </tr>\n",
              "    <tr>\n",
              "      <th>2</th>\n",
              "      <td>HR Director</td>\n",
              "      <td>12</td>\n",
              "    </tr>\n",
              "    <tr>\n",
              "      <th>3</th>\n",
              "      <td>İnsan Kaynakları Sorumlusu</td>\n",
              "      <td>8</td>\n",
              "    </tr>\n",
              "    <tr>\n",
              "      <th>4</th>\n",
              "      <td>Human Resources Intern</td>\n",
              "      <td>8</td>\n",
              "    </tr>\n",
              "    <tr>\n",
              "      <th>5</th>\n",
              "      <td>Human Resources</td>\n",
              "      <td>7</td>\n",
              "    </tr>\n",
              "    <tr>\n",
              "      <th>6</th>\n",
              "      <td>İnsan Kaynakları Yöneticisi</td>\n",
              "      <td>7</td>\n",
              "    </tr>\n",
              "    <tr>\n",
              "      <th>7</th>\n",
              "      <td>Human Resources Manager</td>\n",
              "      <td>6</td>\n",
              "    </tr>\n",
              "    <tr>\n",
              "      <th>8</th>\n",
              "      <td>Professor</td>\n",
              "      <td>6</td>\n",
              "    </tr>\n",
              "    <tr>\n",
              "      <th>9</th>\n",
              "      <td>Associate Professor</td>\n",
              "      <td>5</td>\n",
              "    </tr>\n",
              "  </tbody>\n",
              "</table>\n",
              "</div>"
            ],
            "text/plain": [
              "                      position  count\n",
              "0   Human Resources Specialist     29\n",
              "1      İnsan Kaynakları Uzmanı     26\n",
              "2                  HR Director     12\n",
              "3   İnsan Kaynakları Sorumlusu      8\n",
              "4       Human Resources Intern      8\n",
              "5              Human Resources      7\n",
              "6  İnsan Kaynakları Yöneticisi      7\n",
              "7      Human Resources Manager      6\n",
              "8                    Professor      6\n",
              "9          Associate Professor      5"
            ]
          },
          "metadata": {},
          "execution_count": 55
        }
      ]
    },
    {
      "cell_type": "markdown",
      "metadata": {
        "id": "cEDZCSYQ_io0"
      },
      "source": [
        "## Creating the network"
      ]
    },
    {
      "cell_type": "markdown",
      "metadata": {
        "id": "HegQGiSyAOLz"
      },
      "source": [
        "### Example of simple network"
      ]
    },
    {
      "cell_type": "code",
      "metadata": {
        "colab": {
          "base_uri": "https://localhost:8080/",
          "height": 538
        },
        "id": "yobPAERdAJ0Y",
        "outputId": "15be570b-c1a4-473a-9101-7473602aa320"
      },
      "source": [
        "nt = net.Network(notebook=True)\n",
        "\n",
        "g = nx.Graph()\n",
        "g.add_node(0, label = \"root\") # intialize yourself as central node\n",
        "g.add_node(1, label = \"Company 1\", size=10, title=\"info1\")\n",
        "g.add_node(2, label = \"Company 2\", size=40, title=\"info2\")\n",
        "g.add_node(3, label = \"Company 3\", size=60, title=\"info3\")\n",
        "g.add_edge(0, 1)\n",
        "g.add_edge(0, 2)\n",
        "g.add_edge(0, 3)\n",
        "\n",
        "nt.from_nx(g)\n",
        "nt.show('nodes.html')\n",
        "display(HTML('nodes.html'))"
      ],
      "execution_count": 59,
      "outputs": [
        {
          "output_type": "display_data",
          "data": {
            "text/html": [
              "<html>\n",
              "<head>\n",
              "<link rel=\"stylesheet\" href=\"https://cdnjs.cloudflare.com/ajax/libs/vis/4.16.1/vis.css\" type=\"text/css\" />\n",
              "<script type=\"text/javascript\" src=\"https://cdnjs.cloudflare.com/ajax/libs/vis/4.16.1/vis-network.min.js\"> </script>\n",
              "<center>\n",
              "<h1></h1>\n",
              "</center>\n",
              "\n",
              "<!-- <link rel=\"stylesheet\" href=\"../node_modules/vis/dist/vis.min.css\" type=\"text/css\" />\n",
              "<script type=\"text/javascript\" src=\"../node_modules/vis/dist/vis.js\"> </script>-->\n",
              "\n",
              "<style type=\"text/css\">\n",
              "\n",
              "        #mynetwork {\n",
              "            width: 500px;\n",
              "            height: 500px;\n",
              "            background-color: #ffffff;\n",
              "            border: 1px solid lightgray;\n",
              "            position: relative;\n",
              "            float: left;\n",
              "        }\n",
              "\n",
              "        \n",
              "\n",
              "        \n",
              "\n",
              "        \n",
              "</style>\n",
              "\n",
              "</head>\n",
              "\n",
              "<body>\n",
              "<div id = \"mynetwork\"></div>\n",
              "\n",
              "\n",
              "<script type=\"text/javascript\">\n",
              "\n",
              "    // initialize global variables.\n",
              "    var edges;\n",
              "    var nodes;\n",
              "    var network; \n",
              "    var container;\n",
              "    var options, data;\n",
              "\n",
              "    \n",
              "    // This method is responsible for drawing the graph, returns the drawn network\n",
              "    function drawGraph() {\n",
              "        var container = document.getElementById('mynetwork');\n",
              "        \n",
              "        \n",
              "\n",
              "        // parsing and collecting nodes and edges from the python\n",
              "        nodes = new vis.DataSet([{\"id\": 0, \"label\": \"root\", \"shape\": \"dot\", \"size\": 10}, {\"id\": 1, \"label\": \"Company 1\", \"shape\": \"dot\", \"size\": 10, \"title\": \"info1\"}, {\"id\": 2, \"label\": \"Company 2\", \"shape\": \"dot\", \"size\": 40, \"title\": \"info2\"}, {\"id\": 3, \"label\": \"Company 3\", \"shape\": \"dot\", \"size\": 60, \"title\": \"info3\"}]);\n",
              "        edges = new vis.DataSet([{\"from\": 0, \"to\": 1, \"weight\": 1}, {\"from\": 0, \"to\": 2, \"weight\": 1}, {\"from\": 0, \"to\": 3, \"weight\": 1}]);\n",
              "\n",
              "        // adding nodes and edges to the graph\n",
              "        data = {nodes: nodes, edges: edges};\n",
              "\n",
              "        var options = {\n",
              "    \"configure\": {\n",
              "        \"enabled\": false\n",
              "    },\n",
              "    \"edges\": {\n",
              "        \"color\": {\n",
              "            \"inherit\": true\n",
              "        },\n",
              "        \"smooth\": {\n",
              "            \"enabled\": false,\n",
              "            \"type\": \"continuous\"\n",
              "        }\n",
              "    },\n",
              "    \"interaction\": {\n",
              "        \"dragNodes\": true,\n",
              "        \"hideEdgesOnDrag\": false,\n",
              "        \"hideNodesOnDrag\": false\n",
              "    },\n",
              "    \"physics\": {\n",
              "        \"enabled\": true,\n",
              "        \"stabilization\": {\n",
              "            \"enabled\": true,\n",
              "            \"fit\": true,\n",
              "            \"iterations\": 1000,\n",
              "            \"onlyDynamicEdges\": false,\n",
              "            \"updateInterval\": 50\n",
              "        }\n",
              "    }\n",
              "};\n",
              "        \n",
              "        \n",
              "\n",
              "        \n",
              "\n",
              "        network = new vis.Network(container, data, options);\n",
              "\t \n",
              "        \n",
              "\n",
              "\n",
              "        \n",
              "\n",
              "        return network;\n",
              "\n",
              "    }\n",
              "\n",
              "    drawGraph();\n",
              "\n",
              "</script>\n",
              "</body>\n",
              "</html>"
            ],
            "text/plain": [
              "<IPython.core.display.HTML object>"
            ]
          },
          "metadata": {}
        }
      ]
    },
    {
      "cell_type": "code",
      "metadata": {
        "colab": {
          "base_uri": "https://localhost:8080/"
        },
        "id": "E4yoeKnnE1zA",
        "outputId": "f92058b7-5551-4f6c-af4a-ca5301e93246"
      },
      "source": [
        "print(f\"number of nodes: {g.number_of_nodes()}\")\n",
        "print(f\"number of edges: {g.number_of_edges()}\")"
      ],
      "execution_count": 60,
      "outputs": [
        {
          "output_type": "stream",
          "name": "stdout",
          "text": [
            "number of nodes: 4\n",
            "number of edges: 3\n"
          ]
        }
      ]
    },
    {
      "cell_type": "code",
      "metadata": {
        "colab": {
          "base_uri": "https://localhost:8080/"
        },
        "id": "UH4nj-TlHDNG",
        "outputId": "a0026e2c-522c-4ca0-f959-a2a5b730cfc3"
      },
      "source": [
        "for _, row in df_company.head(5).iterrows():\n",
        "  print(row['company'] + \"-\" + str(row['count']))"
      ],
      "execution_count": 61,
      "outputs": [
        {
          "output_type": "stream",
          "name": "stdout",
          "text": [
            "Sakarya University-26\n",
            "Sakarya Üniversitesi-10\n",
            "FEDERAL ELECTRIC-3\n",
            "ASAŞ ALÜMİNYUM SANAYİ VE TİCARET A.Ş.-3\n",
            "Neutec Grup-3\n"
          ]
        }
      ]
    },
    {
      "cell_type": "code",
      "metadata": {
        "colab": {
          "base_uri": "https://localhost:8080/"
        },
        "id": "YgZU7rbSKvI2",
        "outputId": "b41d1250-3fa3-4ef5-a5d0-9557eaf1ec3f"
      },
      "source": [
        "print(df_company.shape)\n",
        "df_company_reduced = df_company.loc[df_company['count']>=5]\n",
        "print(df_company_reduced.shape)"
      ],
      "execution_count": 62,
      "outputs": [
        {
          "output_type": "stream",
          "name": "stdout",
          "text": [
            "(386, 2)\n",
            "(2, 2)\n"
          ]
        }
      ]
    },
    {
      "cell_type": "code",
      "metadata": {
        "colab": {
          "base_uri": "https://localhost:8080/"
        },
        "id": "BE5s2LKQQ_rv",
        "outputId": "6762fc8a-cffe-443d-83f4-f57c02e06ea7"
      },
      "source": [
        "print(df_position.shape)\n",
        "df_position_reduced = df_position.loc[df_position['count']>=5]\n",
        "print(df_position_reduced.shape)"
      ],
      "execution_count": 63,
      "outputs": [
        {
          "output_type": "stream",
          "name": "stdout",
          "text": [
            "(299, 2)\n",
            "(13, 2)\n"
          ]
        }
      ]
    },
    {
      "cell_type": "code",
      "metadata": {
        "colab": {
          "base_uri": "https://localhost:8080/",
          "height": 738
        },
        "id": "hlh6V25599xI",
        "outputId": "09c879cd-3215-4e14-a295-60c04b6b17a6"
      },
      "source": [
        "# initialize graph\n",
        "g = nx.Graph()\n",
        "g.add_node('root') # intialize yourself as central\n",
        "\n",
        "# use iterrows tp iterate through the data frame\n",
        "for _, row in df_company_reduced.iterrows():\n",
        "\n",
        "  # store company name and count\n",
        "  company = row['company']\n",
        "  count = row['count']\n",
        "\n",
        "  title = f\"<b>{company}</b> – {count}\"\n",
        "  positions = set([x for x in df[company == df['company']]['position']])\n",
        "  positions = ''.join('<li>{}</li>'.format(x) for x in positions)\n",
        "\n",
        "  position_list = f\"<ul>{positions}</ul>\"\n",
        "  hover_info = title + position_list\n",
        "\n",
        "  g.add_node(company, size=count*2, title=hover_info, color='#3449eb')\n",
        "  g.add_edge('root', company, color='grey')\n",
        "\n",
        "# generate the graph\n",
        "nt = net.Network(height='700px', width='700px', bgcolor=\"black\", font_color='white')\n",
        "nt.from_nx(g)\n",
        "nt.hrepulsion()\n",
        "# more customization https://tinyurl.com/yf5lvvdm\n",
        "nt.show('company_graph.html')\n",
        "display(HTML('company_graph.html'))"
      ],
      "execution_count": 64,
      "outputs": [
        {
          "output_type": "display_data",
          "data": {
            "text/html": [
              "<html>\n",
              "<head>\n",
              "<link rel=\"stylesheet\" href=\"https://cdnjs.cloudflare.com/ajax/libs/vis/4.16.1/vis.css\" type=\"text/css\" />\n",
              "<script type=\"text/javascript\" src=\"https://cdnjs.cloudflare.com/ajax/libs/vis/4.16.1/vis-network.min.js\"> </script>\n",
              "<center>\n",
              "<h1></h1>\n",
              "</center>\n",
              "\n",
              "<!-- <link rel=\"stylesheet\" href=\"../node_modules/vis/dist/vis.min.css\" type=\"text/css\" />\n",
              "<script type=\"text/javascript\" src=\"../node_modules/vis/dist/vis.js\"> </script>-->\n",
              "\n",
              "<style type=\"text/css\">\n",
              "\n",
              "        #mynetwork {\n",
              "            width: 700px;\n",
              "            height: 700px;\n",
              "            background-color: black;\n",
              "            border: 1px solid lightgray;\n",
              "            position: relative;\n",
              "            float: left;\n",
              "        }\n",
              "\n",
              "        \n",
              "\n",
              "        \n",
              "\n",
              "        \n",
              "</style>\n",
              "\n",
              "</head>\n",
              "\n",
              "<body>\n",
              "<div id = \"mynetwork\"></div>\n",
              "\n",
              "\n",
              "<script type=\"text/javascript\">\n",
              "\n",
              "    // initialize global variables.\n",
              "    var edges;\n",
              "    var nodes;\n",
              "    var network; \n",
              "    var container;\n",
              "    var options, data;\n",
              "\n",
              "    \n",
              "    // This method is responsible for drawing the graph, returns the drawn network\n",
              "    function drawGraph() {\n",
              "        var container = document.getElementById('mynetwork');\n",
              "        \n",
              "        \n",
              "\n",
              "        // parsing and collecting nodes and edges from the python\n",
              "        nodes = new vis.DataSet([{\"font\": {\"color\": \"white\"}, \"id\": \"root\", \"label\": \"root\", \"shape\": \"dot\", \"size\": 10}, {\"color\": \"#3449eb\", \"font\": {\"color\": \"white\"}, \"id\": \"Sakarya University\", \"label\": \"Sakarya University\", \"shape\": \"dot\", \"size\": 52, \"title\": \"\\u003cb\\u003eSakarya University\\u003c/b\\u003e \\u2013 26\\u003cul\\u003e\\u003cli\\u003e\\u00f6\\u011frencilik\\u003c/li\\u003e\\u003cli\\u003eDo\\u00e7.Dr.\\u003c/li\\u003e\\u003cli\\u003esekreter\\u003c/li\\u003e\\u003cli\\u003eDr.\\u003c/li\\u003e\\u003cli\\u003eLibrarian\\u003c/li\\u003e\\u003cli\\u003eResearch Assistant- Human Resource Management\\u003c/li\\u003e\\u003cli\\u003eas\\u003c/li\\u003e\\u003cli\\u003eYRD. DO\\u00c7. DR\\u003c/li\\u003e\\u003cli\\u003eResearch Assistant\\u003c/li\\u003e\\u003cli\\u003eAkademisyen\\u003c/li\\u003e\\u003cli\\u003eacademic\\u003c/li\\u003e\\u003cli\\u003eSpecialist\\u003c/li\\u003e\\u003cli\\u003eAssociate Professor\\u003c/li\\u003e\\u003cli\\u003eDr. Research Asistant of Industrial Relations\\u003c/li\\u003e\\u003cli\\u003eSecretary of Journal of Business Science-JOBS (\\u0130\\u015fletme Bilimi Dergisi)\\u003c/li\\u003e\\u003cli\\u003eAssoc. Prof.\\u003c/li\\u003e\\u003cli\\u003eProf.Dr. SA\\u00dc\\u003c/li\\u003e\\u003cli\\u003eDo\\u00e7. Dr.\\u003c/li\\u003e\\u003cli\\u003eProf. Dr.\\u003c/li\\u003e\\u003cli\\u003e\\u015eb.M\\u00fcd.\\u003c/li\\u003e\\u003cli\\u003eBilgisayar \\u0130\\u015fletme\\u003c/li\\u003e\\u003c/ul\\u003e\"}, {\"color\": \"#3449eb\", \"font\": {\"color\": \"white\"}, \"id\": \"Sakarya \\u00dcniversitesi\", \"label\": \"Sakarya \\u00dcniversitesi\", \"shape\": \"dot\", \"size\": 20, \"title\": \"\\u003cb\\u003eSakarya \\u00dcniversitesi\\u003c/b\\u003e \\u2013 10\\u003cul\\u003e\\u003cli\\u003eAsst. Prof. Dr.\\u003c/li\\u003e\\u003cli\\u003eLecturer\\u003c/li\\u003e\\u003cli\\u003eStudent Assistant\\u003c/li\\u003e\\u003cli\\u003eDo\\u00e7. Dr.\\u003c/li\\u003e\\u003cli\\u003eResearch Assistant\\u003c/li\\u003e\\u003cli\\u003e\\u0130nsan kaynaklar\\u0131\\u003c/li\\u003e\\u003cli\\u003e\\u0130K\\u003c/li\\u003e\\u003cli\\u003eDo\\u00e7.Dr\\u003c/li\\u003e\\u003cli\\u003eAssociate Professor\\u003c/li\\u003e\\u003cli\\u003e\\u00d6\\u011fretim \\u00dcyesi\\u003c/li\\u003e\\u003c/ul\\u003e\"}]);\n",
              "        edges = new vis.DataSet([{\"color\": \"grey\", \"from\": \"root\", \"to\": \"Sakarya University\", \"weight\": 1}, {\"color\": \"grey\", \"from\": \"root\", \"to\": \"Sakarya \\u00dcniversitesi\", \"weight\": 1}]);\n",
              "\n",
              "        // adding nodes and edges to the graph\n",
              "        data = {nodes: nodes, edges: edges};\n",
              "\n",
              "        var options = {\n",
              "    \"configure\": {\n",
              "        \"enabled\": false\n",
              "    },\n",
              "    \"edges\": {\n",
              "        \"color\": {\n",
              "            \"inherit\": true\n",
              "        },\n",
              "        \"smooth\": {\n",
              "            \"enabled\": false,\n",
              "            \"type\": \"continuous\"\n",
              "        }\n",
              "    },\n",
              "    \"interaction\": {\n",
              "        \"dragNodes\": true,\n",
              "        \"hideEdgesOnDrag\": false,\n",
              "        \"hideNodesOnDrag\": false\n",
              "    },\n",
              "    \"physics\": {\n",
              "        \"enabled\": true,\n",
              "        \"hierarchicalRepulsion\": {\n",
              "            \"centralGravity\": 0.0,\n",
              "            \"damping\": 0.09,\n",
              "            \"nodeDistance\": 120,\n",
              "            \"springConstant\": 0.01,\n",
              "            \"springLength\": 100\n",
              "        },\n",
              "        \"solver\": \"hierarchicalRepulsion\",\n",
              "        \"stabilization\": {\n",
              "            \"enabled\": true,\n",
              "            \"fit\": true,\n",
              "            \"iterations\": 1000,\n",
              "            \"onlyDynamicEdges\": false,\n",
              "            \"updateInterval\": 50\n",
              "        }\n",
              "    }\n",
              "};\n",
              "        \n",
              "        \n",
              "\n",
              "        \n",
              "\n",
              "        network = new vis.Network(container, data, options);\n",
              "\t \n",
              "        \n",
              "\n",
              "\n",
              "        \n",
              "\n",
              "        return network;\n",
              "\n",
              "    }\n",
              "\n",
              "    drawGraph();\n",
              "\n",
              "</script>\n",
              "</body>\n",
              "</html>"
            ],
            "text/plain": [
              "<IPython.core.display.HTML object>"
            ]
          },
          "metadata": {}
        }
      ]
    },
    {
      "cell_type": "code",
      "metadata": {
        "colab": {
          "base_uri": "https://localhost:8080/",
          "height": 738
        },
        "id": "L_ilNMem_lXz",
        "outputId": "af2e41ae-9eba-4277-d62c-5e244f2b15cd"
      },
      "source": [
        "# initialize graph\n",
        "g = nx.Graph()\n",
        "g.add_node('root') # intialize yourself as central\n",
        "\n",
        "# use iterrows tp iterate through the data frame\n",
        "for _, row in df_position_reduced.iterrows():\n",
        "\n",
        "  count = f\"{row['count']}\"\n",
        "  position= row['position']\n",
        "  \n",
        "  g.add_node(position, size=count, color='#3449eb', title=count)\n",
        "  g.add_edge('root', position, color='grey')\n",
        "\n",
        "# generate the graph\n",
        "nt = net.Network(height='700px', width='700px', bgcolor=\"black\", font_color='white')\n",
        "nt.from_nx(g)\n",
        "nt.hrepulsion()\n",
        "# more customization https://tinyurl.com/yf5lvvdm\n",
        "nt.show('position_graph.html')\n",
        "display(HTML('position_graph.html'))"
      ],
      "execution_count": 65,
      "outputs": [
        {
          "output_type": "display_data",
          "data": {
            "text/html": [
              "<html>\n",
              "<head>\n",
              "<link rel=\"stylesheet\" href=\"https://cdnjs.cloudflare.com/ajax/libs/vis/4.16.1/vis.css\" type=\"text/css\" />\n",
              "<script type=\"text/javascript\" src=\"https://cdnjs.cloudflare.com/ajax/libs/vis/4.16.1/vis-network.min.js\"> </script>\n",
              "<center>\n",
              "<h1></h1>\n",
              "</center>\n",
              "\n",
              "<!-- <link rel=\"stylesheet\" href=\"../node_modules/vis/dist/vis.min.css\" type=\"text/css\" />\n",
              "<script type=\"text/javascript\" src=\"../node_modules/vis/dist/vis.js\"> </script>-->\n",
              "\n",
              "<style type=\"text/css\">\n",
              "\n",
              "        #mynetwork {\n",
              "            width: 700px;\n",
              "            height: 700px;\n",
              "            background-color: black;\n",
              "            border: 1px solid lightgray;\n",
              "            position: relative;\n",
              "            float: left;\n",
              "        }\n",
              "\n",
              "        \n",
              "\n",
              "        \n",
              "\n",
              "        \n",
              "</style>\n",
              "\n",
              "</head>\n",
              "\n",
              "<body>\n",
              "<div id = \"mynetwork\"></div>\n",
              "\n",
              "\n",
              "<script type=\"text/javascript\">\n",
              "\n",
              "    // initialize global variables.\n",
              "    var edges;\n",
              "    var nodes;\n",
              "    var network; \n",
              "    var container;\n",
              "    var options, data;\n",
              "\n",
              "    \n",
              "    // This method is responsible for drawing the graph, returns the drawn network\n",
              "    function drawGraph() {\n",
              "        var container = document.getElementById('mynetwork');\n",
              "        \n",
              "        \n",
              "\n",
              "        // parsing and collecting nodes and edges from the python\n",
              "        nodes = new vis.DataSet([{\"font\": {\"color\": \"white\"}, \"id\": \"root\", \"label\": \"root\", \"shape\": \"dot\", \"size\": 10}, {\"color\": \"#3449eb\", \"font\": {\"color\": \"white\"}, \"id\": \"Human Resources Specialist\", \"label\": \"Human Resources Specialist\", \"shape\": \"dot\", \"size\": 29, \"title\": \"29\"}, {\"color\": \"#3449eb\", \"font\": {\"color\": \"white\"}, \"id\": \"\\u0130nsan Kaynaklar\\u0131 Uzman\\u0131\", \"label\": \"\\u0130nsan Kaynaklar\\u0131 Uzman\\u0131\", \"shape\": \"dot\", \"size\": 26, \"title\": \"26\"}, {\"color\": \"#3449eb\", \"font\": {\"color\": \"white\"}, \"id\": \"HR Director\", \"label\": \"HR Director\", \"shape\": \"dot\", \"size\": 12, \"title\": \"12\"}, {\"color\": \"#3449eb\", \"font\": {\"color\": \"white\"}, \"id\": \"\\u0130nsan Kaynaklar\\u0131 Sorumlusu\", \"label\": \"\\u0130nsan Kaynaklar\\u0131 Sorumlusu\", \"shape\": \"dot\", \"size\": 8, \"title\": \"8\"}, {\"color\": \"#3449eb\", \"font\": {\"color\": \"white\"}, \"id\": \"Human Resources Intern\", \"label\": \"Human Resources Intern\", \"shape\": \"dot\", \"size\": 8, \"title\": \"8\"}, {\"color\": \"#3449eb\", \"font\": {\"color\": \"white\"}, \"id\": \"Human Resources\", \"label\": \"Human Resources\", \"shape\": \"dot\", \"size\": 7, \"title\": \"7\"}, {\"color\": \"#3449eb\", \"font\": {\"color\": \"white\"}, \"id\": \"\\u0130nsan Kaynaklar\\u0131 Y\\u00f6neticisi\", \"label\": \"\\u0130nsan Kaynaklar\\u0131 Y\\u00f6neticisi\", \"shape\": \"dot\", \"size\": 7, \"title\": \"7\"}, {\"color\": \"#3449eb\", \"font\": {\"color\": \"white\"}, \"id\": \"Human Resources Manager\", \"label\": \"Human Resources Manager\", \"shape\": \"dot\", \"size\": 6, \"title\": \"6\"}, {\"color\": \"#3449eb\", \"font\": {\"color\": \"white\"}, \"id\": \"Professor\", \"label\": \"Professor\", \"shape\": \"dot\", \"size\": 6, \"title\": \"6\"}, {\"color\": \"#3449eb\", \"font\": {\"color\": \"white\"}, \"id\": \"Associate Professor\", \"label\": \"Associate Professor\", \"shape\": \"dot\", \"size\": 5, \"title\": \"5\"}, {\"color\": \"#3449eb\", \"font\": {\"color\": \"white\"}, \"id\": \"\\u0130nsan Kaynaklar\\u0131\", \"label\": \"\\u0130nsan Kaynaklar\\u0131\", \"shape\": \"dot\", \"size\": 5, \"title\": \"5\"}, {\"color\": \"#3449eb\", \"font\": {\"color\": \"white\"}, \"id\": \"HR Business Partner\", \"label\": \"HR Business Partner\", \"shape\": \"dot\", \"size\": 5, \"title\": \"5\"}, {\"color\": \"#3449eb\", \"font\": {\"color\": \"white\"}, \"id\": \"Senior Human Resources Specialist\", \"label\": \"Senior Human Resources Specialist\", \"shape\": \"dot\", \"size\": 5, \"title\": \"5\"}]);\n",
              "        edges = new vis.DataSet([{\"color\": \"grey\", \"from\": \"root\", \"to\": \"Human Resources Specialist\", \"weight\": 1}, {\"color\": \"grey\", \"from\": \"root\", \"to\": \"\\u0130nsan Kaynaklar\\u0131 Uzman\\u0131\", \"weight\": 1}, {\"color\": \"grey\", \"from\": \"root\", \"to\": \"HR Director\", \"weight\": 1}, {\"color\": \"grey\", \"from\": \"root\", \"to\": \"\\u0130nsan Kaynaklar\\u0131 Sorumlusu\", \"weight\": 1}, {\"color\": \"grey\", \"from\": \"root\", \"to\": \"Human Resources Intern\", \"weight\": 1}, {\"color\": \"grey\", \"from\": \"root\", \"to\": \"Human Resources\", \"weight\": 1}, {\"color\": \"grey\", \"from\": \"root\", \"to\": \"\\u0130nsan Kaynaklar\\u0131 Y\\u00f6neticisi\", \"weight\": 1}, {\"color\": \"grey\", \"from\": \"root\", \"to\": \"Human Resources Manager\", \"weight\": 1}, {\"color\": \"grey\", \"from\": \"root\", \"to\": \"Professor\", \"weight\": 1}, {\"color\": \"grey\", \"from\": \"root\", \"to\": \"Associate Professor\", \"weight\": 1}, {\"color\": \"grey\", \"from\": \"root\", \"to\": \"\\u0130nsan Kaynaklar\\u0131\", \"weight\": 1}, {\"color\": \"grey\", \"from\": \"root\", \"to\": \"HR Business Partner\", \"weight\": 1}, {\"color\": \"grey\", \"from\": \"root\", \"to\": \"Senior Human Resources Specialist\", \"weight\": 1}]);\n",
              "\n",
              "        // adding nodes and edges to the graph\n",
              "        data = {nodes: nodes, edges: edges};\n",
              "\n",
              "        var options = {\n",
              "    \"configure\": {\n",
              "        \"enabled\": false\n",
              "    },\n",
              "    \"edges\": {\n",
              "        \"color\": {\n",
              "            \"inherit\": true\n",
              "        },\n",
              "        \"smooth\": {\n",
              "            \"enabled\": false,\n",
              "            \"type\": \"continuous\"\n",
              "        }\n",
              "    },\n",
              "    \"interaction\": {\n",
              "        \"dragNodes\": true,\n",
              "        \"hideEdgesOnDrag\": false,\n",
              "        \"hideNodesOnDrag\": false\n",
              "    },\n",
              "    \"physics\": {\n",
              "        \"enabled\": true,\n",
              "        \"hierarchicalRepulsion\": {\n",
              "            \"centralGravity\": 0.0,\n",
              "            \"damping\": 0.09,\n",
              "            \"nodeDistance\": 120,\n",
              "            \"springConstant\": 0.01,\n",
              "            \"springLength\": 100\n",
              "        },\n",
              "        \"solver\": \"hierarchicalRepulsion\",\n",
              "        \"stabilization\": {\n",
              "            \"enabled\": true,\n",
              "            \"fit\": true,\n",
              "            \"iterations\": 1000,\n",
              "            \"onlyDynamicEdges\": false,\n",
              "            \"updateInterval\": 50\n",
              "        }\n",
              "    }\n",
              "};\n",
              "        \n",
              "        \n",
              "\n",
              "        \n",
              "\n",
              "        network = new vis.Network(container, data, options);\n",
              "\t \n",
              "        \n",
              "\n",
              "\n",
              "        \n",
              "\n",
              "        return network;\n",
              "\n",
              "    }\n",
              "\n",
              "    drawGraph();\n",
              "\n",
              "</script>\n",
              "</body>\n",
              "</html>"
            ],
            "text/plain": [
              "<IPython.core.display.HTML object>"
            ]
          },
          "metadata": {}
        }
      ]
    },
    {
      "cell_type": "code",
      "metadata": {
        "id": "Qdwa4OmGB3_S"
      },
      "source": [
        ""
      ],
      "execution_count": null,
      "outputs": []
    }
  ]
}